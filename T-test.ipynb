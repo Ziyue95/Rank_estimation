{
 "cells": [
  {
   "cell_type": "code",
   "execution_count": 61,
   "metadata": {},
   "outputs": [],
   "source": [
    "import numpy as np\n",
    "import pandas as pd \n",
    "import math as ma\n",
    "from scipy import stats\n",
    "from scipy.stats import beta\n",
    "from scipy.optimize import fsolve"
   ]
  },
  {
   "cell_type": "code",
   "execution_count": 68,
   "metadata": {},
   "outputs": [
    {
     "name": "stdout",
     "output_type": "stream",
     "text": [
      "[2.82842712]\n"
     ]
    }
   ],
   "source": [
    "musun = 132712000000\n",
    "T = 365.25 * 86400 * 2 / 3\n",
    "e = 581.2392124070273\n",
    "\n",
    "\n",
    "def f(x):\n",
    "    return x**2 -8\n",
    "\n",
    "\n",
    "x = fsolve(f, 0.01)\n",
    "\n",
    "print(x)"
   ]
  },
  {
   "cell_type": "code",
   "execution_count": 171,
   "metadata": {},
   "outputs": [],
   "source": [
    "# Mean_of_Matrix requires matrix as input with each sample as a row\n",
    "# and output a matrix\n",
    "def Mean_of_Matrix(Matrix):\n",
    "    row = Matrix.shape[0]\n",
    "    one = np.matrix(np.ones(row))\n",
    "    mean_of_Matrix=1/row * one * Matrix\n",
    "    return mean_of_Matrix\n",
    "\n",
    "# Covariance_of_Matrix requires matrix as input and outp a matrix\n",
    "def Covariance_of_Matrix(Matrix):\n",
    "    row = Matrix.shape[0]\n",
    "    one = np.matrix(np.ones(row))\n",
    "    mean_of_Matrix = Mean_of_Matrix(Matrix)\n",
    "    matrix = Matrix - mean_of_Matrix\n",
    "    return matrix.transpose() * matrix / row\n",
    "\n",
    "def Variance_of_Matrix(Matrix):\n",
    "    co_matrix = Covariance_of_Matrix(Matrix)\n",
    "    n=co_matrix.shape[0]\n",
    "    variance = np.matrix(np.ones(n))\n",
    "    for i in range(0,n):\n",
    "        variance[0,i] = co_matrix[i,i]\n",
    "    return variance\n",
    "\n",
    "# T_test requires Matrix_1 & Matrix_2 have same number of columns\n",
    "def T_test(Matrix_1,Matrix_2):\n",
    "    N_1,N_2 = Matrix_1.shape[0], Marix_2.shape[0]\n",
    "    X_A,X_B = Mean_of_Matrix(Matrix_1), Mean_of_Matrix(Matrix_2)\n",
    "    S_A,S_B = Variance_of_Matrix(Matrix_1),Variance_of_Matrix(Matrix_2)\n",
    "    T_trace = []\n",
    "    for i in range(0,Marix_2.shape[1]):\n",
    "        T_trace.append((X_A[0,i] - X_B[0,i])/ma.sqrt(S_A[0,i]/N_1 +S_B[0,i]/N_2))\n",
    "    return T_trace\n",
    "# Can also use 'stats.ttest_ind(matrix_1, matrix_2, equal_var = False)' from package scipy\n",
    "\n",
    "def threshold(T_test,c):\n",
    "    index = []\n",
    "    t_test = T_test.pvalue.tolist()\n",
    "    for i in range(0,len(t_test)):\n",
    "        if abs(t_test[i])>=c :\n",
    "            index.append(i)\n",
    "    return index"
   ]
  },
  {
   "cell_type": "code",
   "execution_count": 173,
   "metadata": {},
   "outputs": [
    {
     "name": "stdout",
     "output_type": "stream",
     "text": [
      "[3, 4, 6, 7, 8, 9]\n"
     ]
    }
   ],
   "source": [
    "# Example\n",
    "matrix_1 = np.zeros((500,10))\n",
    "for i in range(0,10):\n",
    "    matrix_1[:,i] = stats.norm.rvs(loc=5,scale=10,size=500)\n",
    "matrix_2 = np.zeros((200,10))\n",
    "for i in range(0,10):\n",
    "    matrix_2[:,i] = stats.norm.rvs(loc=8,scale=20,size=200)\n",
    "result=stats.ttest_ind(matrix_1, matrix_2, equal_var = False)\n",
    "\n",
    "print(threshold(result,0.1))"
   ]
  },
  {
   "cell_type": "code",
   "execution_count": 51,
   "metadata": {},
   "outputs": [],
   "source": [
    "# Higher criticism Algorithm\n",
    "# x is array, y is number\n",
    "def f_1(x,y):\n",
    "    return (x+(y**2-y*(y**2+4*np.multiply(1-x, x))**0.5)/2)/(1+y**2)\n",
    "\n",
    "def f_2(x,y):\n",
    "    z = (1+y**2) * (y**2 + 4*np.multiply(1-x, x))**0.5\n",
    "    return 1/(1+y**2) - np.divide(y*(1-2*x),z)\n",
    "\n",
    "def hcpvalue(nl,th):\n",
    "    k = np.array(range(0,ma.floor(nl/2)))+1\n",
    "    c1 = f_1(k/nl,th/nl**0.5)\n",
    "    c2 = f_2(k/nl,th/nl**0.5)\n",
    "    beta_pdf = beta.pdf(c1,k,nl+1-k)\n",
    "    return sum(np.divide(np.multiply(np.multiply(np.multiply(beta_pdf,np.divide(c1,k)),(1-(1-k/nl))),c2),(1-c1)))\n",
    "\n",
    "def hctest(x,alpha=0.01):\n",
    "    if alpha<=0 or alpha >=1 :\n",
    "        return \"BadAlpha\"\n",
    "    else:\n",
    "        nl = len(x)\n",
    "        hc_threshold = 0.5\n",
    "        x0=0.1\n",
    "        def fun(th):\n",
    "            return hcpvalue(nl,th) - alpha\n",
    "        while hc_threshold < 1.07:\n",
    "            x0 = x0*10\n",
    "            hc_threshold = fsolve(fun, x0)\n",
    "        x_sort = sorted(x)\n",
    "        hc = ma.sqrt(nl) * np.divide(((np.array(range(0,nl))+1)/nl - x_sort),(np.multiply(x_sort,(1-x_sort+1e-50)))**0.5)\n",
    "        hc_max = max(hc[0:ma.floor(nl/2)])\n",
    "        if hc_max > hc_threshold:\n",
    "            return 1, threshold\n",
    "        else:\n",
    "            return 0, threshold"
   ]
  }
 ],
 "metadata": {
  "kernelspec": {
   "display_name": "Python 3",
   "language": "python",
   "name": "python3"
  },
  "language_info": {
   "codemirror_mode": {
    "name": "ipython",
    "version": 3
   },
   "file_extension": ".py",
   "mimetype": "text/x-python",
   "name": "python",
   "nbconvert_exporter": "python",
   "pygments_lexer": "ipython3",
   "version": "3.6.4"
  }
 },
 "nbformat": 4,
 "nbformat_minor": 2
}
