{
 "cells": [
  {
   "cell_type": "code",
   "execution_count": 1,
   "metadata": {},
   "outputs": [],
   "source": [
    "import numpy as np\n",
    "import pandas as pd \n",
    "import matplotlib.pyplot as plt\n",
    "import math\n",
    "from scipy.stats import norm\n",
    "from matplotlib.backends.backend_pdf import PdfPages"
   ]
  },
  {
   "cell_type": "code",
   "execution_count": 2,
   "metadata": {},
   "outputs": [],
   "source": [
    "Input ={\"num_plaintext\":500,\"num_byte\":8,\"num_bits\":8,\"num_iteration\":5}"
   ]
  },
  {
   "cell_type": "code",
   "execution_count": 3,
   "metadata": {},
   "outputs": [],
   "source": [
    "def hamming_distance(x,y):\n",
    "    return bin(x^y).count(\"1\")\n",
    "def hamming_weight(x):\n",
    "    return bin(x).count(\"1\")"
   ]
  },
  {
   "cell_type": "code",
   "execution_count": 4,
   "metadata": {},
   "outputs": [],
   "source": [
    "inv_s_box = np.array(pd.read_csv(\"C:/Users/Ziyue/Dropbox/TonyShared/CPA/inv_s_box.csv\",header=None))[0]\n",
    "s_box = list(np.zeros(2**Input[\"num_bits\"]))\n",
    "for i in range(0,2**Input[\"num_bits\"]):\n",
    "    s_box[i] = int(np.where(inv_s_box == i)[0][0])"
   ]
  },
  {
   "cell_type": "code",
   "execution_count": 5,
   "metadata": {},
   "outputs": [],
   "source": [
    "#Create random correct key, random plain text, sample HW\n",
    "rv_range = list(range(0,2**Input[\"num_bits\"]))\n",
    "True_key = np.random.choice(rv_range, size=Input[\"num_byte\"], replace = True)\n",
    "Noise_variance = [10,8,12,10,5,2,13,20]\n",
    "Sample_HW = np.zeros((Input[\"num_byte\"],2**Input[\"num_bits\"],Input[\"num_plaintext\"]))\n",
    "plain_text = np.random.choice(rv_range, size=Input[\"num_plaintext\"], replace = True)\n",
    "for k in range(0,Input[\"num_byte\"]):\n",
    "    for i in range(0,2**Input[\"num_bits\"]):\n",
    "        for j in range(0,Input[\"num_plaintext\"]):\n",
    "            Sample_HW[k,i,j] = hamming_weight(s_box[i^plain_text[j]])"
   ]
  },
  {
   "cell_type": "code",
   "execution_count": 12,
   "metadata": {},
   "outputs": [],
   "source": [
    "#Create Gaussian simulated traces based on sample HW:\n",
    "Simulated_traces = np.zeros((Input[\"num_byte\"],Input[\"num_plaintext\"]))\n",
    "Simulated_traces_Lap = np.zeros((Input[\"num_byte\"],Input[\"num_plaintext\"]))\n",
    "post_pro_vector = np.zeros((Input[\"num_byte\"],2**Input[\"num_bits\"]))\n",
    "post_pro_vector_Lap = np.zeros((Input[\"num_byte\"],2**Input[\"num_bits\"]))\n",
    "sorted_post_pro_vector = np.zeros((Input[\"num_byte\"],2**Input[\"num_bits\"]))\n",
    "sorted_post_pro_vector_Lap = np.zeros((Input[\"num_byte\"],2**Input[\"num_bits\"]))\n",
    "for k in range(0,Input[\"num_byte\"]):\n",
    "    for i in range(0,Input[\"num_plaintext\"]):\n",
    "        Simulated_traces[k,i] = Sample_HW[k,True_key[k],i] + np.random.normal(0,Noise_variance[k]**0.5)\n",
    "        Simulated_traces_Lap[k,i] = Sample_HW[k,True_key[k],i] + np.random.laplace(0,(0.5*Noise_variance[k])**0.5)"
   ]
  },
  {
   "cell_type": "code",
   "execution_count": 6,
   "metadata": {},
   "outputs": [],
   "source": [
    "def prior_pro(data_point,sample_HW,key,var):\n",
    "    n = len(data_point)\n",
    "    P = 1\n",
    "    for w in range(0,n):\n",
    "        P = P * norm.pdf(data_point[w], sample_HW[key,w], var**0.5)*18\n",
    "    return P\n",
    "\n",
    "def post_pro(data_point,sample_HW,key,var):\n",
    "    sums = 0\n",
    "    for i in range(0,2**Input[\"num_bits\"]):\n",
    "        sums = sums + prior_pro(data_point,sample_HW,i,var)\n",
    "    pro = prior_pro(data_point,sample_HW,key,var)/sums\n",
    "    return pro"
   ]
  },
  {
   "cell_type": "code",
   "execution_count": 172,
   "metadata": {},
   "outputs": [
    {
     "ename": "NameError",
     "evalue": "name 'Simulated_traces_Lap' is not defined",
     "output_type": "error",
     "traceback": [
      "\u001b[1;31m---------------------------------------------------------------------------\u001b[0m",
      "\u001b[1;31mNameError\u001b[0m                                 Traceback (most recent call last)",
      "\u001b[1;32m<ipython-input-172-e8ad51095021>\u001b[0m in \u001b[0;36m<module>\u001b[1;34m()\u001b[0m\n\u001b[0;32m      2\u001b[0m     \u001b[1;32mfor\u001b[0m \u001b[0mi\u001b[0m \u001b[1;32min\u001b[0m \u001b[0mrange\u001b[0m\u001b[1;33m(\u001b[0m\u001b[1;36m0\u001b[0m\u001b[1;33m,\u001b[0m\u001b[1;36m2\u001b[0m\u001b[1;33m**\u001b[0m\u001b[0mInput\u001b[0m\u001b[1;33m[\u001b[0m\u001b[1;34m\"num_bits\"\u001b[0m\u001b[1;33m]\u001b[0m\u001b[1;33m)\u001b[0m\u001b[1;33m:\u001b[0m\u001b[1;33m\u001b[0m\u001b[0m\n\u001b[0;32m      3\u001b[0m         \u001b[0mpost_pro_vector\u001b[0m\u001b[1;33m[\u001b[0m\u001b[0mk\u001b[0m\u001b[1;33m,\u001b[0m\u001b[0mi\u001b[0m\u001b[1;33m]\u001b[0m \u001b[1;33m=\u001b[0m \u001b[0mpost_pro\u001b[0m\u001b[1;33m(\u001b[0m\u001b[0mSimulated_traces\u001b[0m\u001b[1;33m[\u001b[0m\u001b[0mk\u001b[0m\u001b[1;33m,\u001b[0m\u001b[1;33m:\u001b[0m\u001b[1;33m]\u001b[0m\u001b[1;33m,\u001b[0m\u001b[0mSample_HW\u001b[0m\u001b[1;33m[\u001b[0m\u001b[0mk\u001b[0m\u001b[1;33m,\u001b[0m\u001b[1;33m:\u001b[0m\u001b[1;33m,\u001b[0m\u001b[1;33m:\u001b[0m\u001b[1;33m]\u001b[0m\u001b[1;33m,\u001b[0m\u001b[0mi\u001b[0m\u001b[1;33m,\u001b[0m\u001b[0mNoise_variance\u001b[0m\u001b[1;33m[\u001b[0m\u001b[0mk\u001b[0m\u001b[1;33m]\u001b[0m\u001b[1;33m)\u001b[0m\u001b[1;33m\u001b[0m\u001b[0m\n\u001b[1;32m----> 4\u001b[1;33m         \u001b[0mpost_pro_vector_Lap\u001b[0m\u001b[1;33m[\u001b[0m\u001b[0mk\u001b[0m\u001b[1;33m,\u001b[0m\u001b[0mi\u001b[0m\u001b[1;33m]\u001b[0m \u001b[1;33m=\u001b[0m \u001b[0mpost_pro\u001b[0m\u001b[1;33m(\u001b[0m\u001b[0mSimulated_traces_Lap\u001b[0m\u001b[1;33m[\u001b[0m\u001b[0mk\u001b[0m\u001b[1;33m,\u001b[0m\u001b[1;33m:\u001b[0m\u001b[1;33m]\u001b[0m\u001b[1;33m,\u001b[0m\u001b[0mSample_HW\u001b[0m\u001b[1;33m[\u001b[0m\u001b[0mk\u001b[0m\u001b[1;33m,\u001b[0m\u001b[1;33m:\u001b[0m\u001b[1;33m,\u001b[0m\u001b[1;33m:\u001b[0m\u001b[1;33m]\u001b[0m\u001b[1;33m,\u001b[0m\u001b[0mi\u001b[0m\u001b[1;33m,\u001b[0m\u001b[0mNoise_variance\u001b[0m\u001b[1;33m[\u001b[0m\u001b[0mk\u001b[0m\u001b[1;33m]\u001b[0m\u001b[1;33m)\u001b[0m\u001b[1;33m\u001b[0m\u001b[0m\n\u001b[0m\u001b[0;32m      5\u001b[0m \u001b[1;32mfor\u001b[0m \u001b[0mi\u001b[0m \u001b[1;32min\u001b[0m \u001b[0mrange\u001b[0m\u001b[1;33m(\u001b[0m\u001b[1;36m0\u001b[0m\u001b[1;33m,\u001b[0m\u001b[0mInput\u001b[0m\u001b[1;33m[\u001b[0m\u001b[1;34m\"num_byte\"\u001b[0m\u001b[1;33m]\u001b[0m\u001b[1;33m)\u001b[0m\u001b[1;33m:\u001b[0m\u001b[1;33m\u001b[0m\u001b[0m\n\u001b[0;32m      6\u001b[0m     \u001b[0msorted_post_pro_vector\u001b[0m\u001b[1;33m[\u001b[0m\u001b[0mi\u001b[0m\u001b[1;33m,\u001b[0m\u001b[1;33m:\u001b[0m\u001b[1;33m]\u001b[0m \u001b[1;33m=\u001b[0m \u001b[0msorted\u001b[0m\u001b[1;33m(\u001b[0m\u001b[0mpost_pro_vector\u001b[0m\u001b[1;33m[\u001b[0m\u001b[0mi\u001b[0m\u001b[1;33m,\u001b[0m\u001b[1;33m:\u001b[0m\u001b[1;33m]\u001b[0m\u001b[1;33m,\u001b[0m\u001b[0mreverse\u001b[0m \u001b[1;33m=\u001b[0m \u001b[1;32mTrue\u001b[0m\u001b[1;33m)\u001b[0m\u001b[1;33m\u001b[0m\u001b[0m\n",
      "\u001b[1;31mNameError\u001b[0m: name 'Simulated_traces_Lap' is not defined"
     ]
    }
   ],
   "source": [
    "for k in range(0,Input[\"num_byte\"]):\n",
    "    for i in range(0,2**Input[\"num_bits\"]):\n",
    "        post_pro_vector[k,i] = post_pro(Simulated_traces[k,:],Sample_HW[k,:,:],i,Noise_variance[k])\n",
    "        post_pro_vector_Lap[k,i] = post_pro(Simulated_traces_Lap[k,:],Sample_HW[k,:,:],i,Noise_variance[k])\n",
    "for i in range(0,Input[\"num_byte\"]):\n",
    "    sorted_post_pro_vector[i,:] = sorted(post_pro_vector[i,:],reverse = True)\n",
    "    sorted_post_pro_vector_Lap[i,:] = sorted(post_pro_vector_Lap[i,:],reverse = True)"
   ]
  },
  {
   "cell_type": "code",
   "execution_count": 16,
   "metadata": {},
   "outputs": [],
   "source": [
    "pd.DataFrame(post_pro_vector).to_csv(\"post_pro_vector.csv\")\n",
    "pd.DataFrame(post_pro_vector_Lap).to_csv(\"post_pro_vector_Lap.csv\")"
   ]
  },
  {
   "cell_type": "code",
   "execution_count": 25,
   "metadata": {},
   "outputs": [],
   "source": [
    "post_pro_vector = np.array(pd.read_csv(\"C:/Users/Ziyue/Desktop/document/jupyter_test/post_pro_vector.csv\",header=None))[1:,1:]"
   ]
  },
  {
   "cell_type": "code",
   "execution_count": 239,
   "metadata": {},
   "outputs": [],
   "source": [
    "#Confusion coefficient\n",
    "confusion_cof = np.zeros((2**Input[\"num_bits\"],2**Input[\"num_bits\"]))\n",
    "for i in range(0,2**Input[\"num_bits\"]-1):\n",
    "    for j in range(i+1,2**Input[\"num_bits\"]):\n",
    "        sum = 0\n",
    "        for k in range(0,2**Input[\"num_bits\"]):\n",
    "            sum += (hamming_weight(s_box[k^i])-hamming_weight(s_box[k^j]))**2\n",
    "        confusion_cof[i,j]=sum/256\n",
    "for i in range(0,2**Input[\"num_bits\"]-1):\n",
    "    for j in range(i+1,2**Input[\"num_bits\"]):\n",
    "        confusion_cof[j,i]=confusion_cof[i,j]"
   ]
  },
  {
   "cell_type": "code",
   "execution_count": 240,
   "metadata": {},
   "outputs": [],
   "source": [
    "#K_matrix\n",
    "def K_matrix_kc(kc,confusion_cof):\n",
    "    K = np.zeros((2**Input[\"num_bits\"]-1,2**Input[\"num_bits\"]-1))\n",
    "    index = list(range(0,2**Input[\"num_bits\"]))\n",
    "    index.pop(kc)\n",
    "    for i in range(0,2**Input[\"num_bits\"]-1):\n",
    "        K[i,i] = confusion_cof[kc,index[i]]\n",
    "    for k in range(0,2**Input[\"num_bits\"]-2):\n",
    "        for j in range(k+1,2**Input[\"num_bits\"]-1):\n",
    "            K[k,j] = (confusion_cof[kc,index[k]]+confusion_cof[kc,index[j]]-confusion_cof[index[k],index[j]])/2\n",
    "    for i in range(0,2**Input[\"num_bits\"]-2):\n",
    "        for j in range(i+1,2**Input[\"num_bits\"]-1):\n",
    "            K[j,i] = K[i,j]\n",
    "    return K"
   ]
  },
  {
   "cell_type": "code",
   "execution_count": 241,
   "metadata": {},
   "outputs": [],
   "source": [
    "#n correspond to number of power traces we may have\n",
    "#number is the number of sample to estimate real probability#\n",
    "def Compute_theo_pro(n,number,k_matrix,miu):\n",
    "    sample = np.random.multivariate_normal([x*n**0.5 for x in miu],k_matrix,size = number)\n",
    "    num_negative = np.zeros(number)\n",
    "    ratio_vector = np.zeros(2**Input[\"num_bits\"])\n",
    "    for i in range(0,number):\n",
    "        num_negative[i] = 255 - len(list(filter(lambda x: x > 0, sample[i,:])))\n",
    "    for i in range(0,2**Input[\"num_bits\"]):\n",
    "        ratio_vector[i] = len(list(filter(lambda x: x == i, num_negative)))/number\n",
    "    return ratio_vector"
   ]
  },
  {
   "cell_type": "code",
   "execution_count": 249,
   "metadata": {},
   "outputs": [],
   "source": [
    "#One byte case : take first byte\n",
    "Num_traces=[1,2,3,4,5,6,7,8,9,10,20,30,40,50,60,70,80,90,100]\n",
    "theo_GM = np.zeros(len(Num_traces))\n",
    "avg_GM = np.zeros(len(Num_traces))\n",
    "avg_GE = np.zeros(len(Num_traces))\n",
    "avg_GE_Lap = np.zeros(len(Num_traces))\n",
    "avg_GM_Lap = np.zeros(len(Num_traces))\n",
    "avg_up = np.zeros(len(Num_traces))\n",
    "avg_up_Lap = np.zeros(len(Num_traces))\n",
    "avg_low = np.zeros(len(Num_traces))\n",
    "avg_low_Lap = np.zeros(len(Num_traces))\n",
    "theo_up = np.zeros(len(Num_traces))\n",
    "theo_low = np.zeros(len(Num_traces))\n",
    "up_GMHK = np.zeros(len(Num_traces))\n",
    "low_GMHK = np.zeros(len(Num_traces))\n",
    "up_GMHK_Lap = np.zeros(len(Num_traces))\n",
    "low_GMHK_Lap = np.zeros(len(Num_traces))\n",
    "theo_up_GMHK = np.zeros(len(Num_traces))\n",
    "theo_low_GMHK = np.zeros(len(Num_traces))"
   ]
  },
  {
   "cell_type": "code",
   "execution_count": 256,
   "metadata": {},
   "outputs": [],
   "source": [
    "def rank_estimation_single_bit(N,Input,confusion_cof):\n",
    "    GM_vector = np.zeros(Input[\"num_iteration\"])\n",
    "    GM_vector_Lap = np.zeros(Input[\"num_iteration\"])\n",
    "    GE_vector = np.zeros(Input[\"num_iteration\"])\n",
    "    GE_vector_Lap = np.zeros(Input[\"num_iteration\"])\n",
    "    H = 0\n",
    "    H_Lap = 0\n",
    "    inter = np.zeros(Input[\"num_iteration\"]) \n",
    "    inter_Lap = np.zeros(Input[\"num_iteration\"])\n",
    "    lower_bound = np.zeros(Input[\"num_iteration\"]) \n",
    "    upper_bound = np.zeros(Input[\"num_iteration\"]) \n",
    "    lower_bound_Lap = np.zeros(Input[\"num_iteration\"]) \n",
    "    upper_bound_Lap = np.zeros(Input[\"num_iteration\"]) \n",
    "    Simulated_trace = np.zeros(N)\n",
    "    Simulated_trace_Lap = np.zeros(N)\n",
    "    Sample_HW = np.zeros((2**Input[\"num_bits\"],N))\n",
    "    kc = int(np.random.choice(rv_range, size=1)[0])\n",
    "    #theo part\n",
    "    miu = list(confusion_cof[kc,:]/(2*Noise_variance[0]**0.5))\n",
    "    miu.pop(kc)\n",
    "    K_matrix = K_matrix_kc(kc,confusion_cof)\n",
    "    theo_pro = Compute_theo_pro(N,10000,K_matrix,miu)\n",
    "    sorted_theo_pro = sorted(theo_pro,reverse = True)\n",
    "    theo_GM = 0\n",
    "    theo_inter = 0\n",
    "    theo_H_K = 0\n",
    "    for i in range(0,2**Input[\"num_bits\"]):\n",
    "        theo_GM += (i+1)*sorted_theo_pro[i]\n",
    "        theo_inter += (sorted_theo_pro[i])**0.5\n",
    "        theo_H_K -= sorted_theo_pro[i]*math.log(max(sorted_theo_pro[i],0.000000001),2)\n",
    "    theo_up = 0.5*theo_inter**2+0.5\n",
    "    theo_low = (theo_inter**2)/(1+math.log(2**Input[\"num_bits\"]))\n",
    "    theo_up_GMHK = 1 + (2**Input[\"num_bits\"] - 1)*(theo_H_K)/(2*math.log(2**Input[\"num_bits\"]))\n",
    "    theo_low_GMHK = 2**(theo_H_K-2)+1\n",
    "    for k in range(0,Input[\"num_iteration\"]):\n",
    "        plain_text = np.random.choice(rv_range, size=N, replace = True)\n",
    "        for i in range(0,2**Input[\"num_bits\"]):\n",
    "            for j in range(0,N):\n",
    "                Sample_HW[i,j] = hamming_weight(s_box[i^plain_text[j]])\n",
    "        for i in range(0,N):\n",
    "            Simulated_trace[i] = Sample_HW[kc,i] + np.random.normal(0,Noise_variance[0]**0.5)\n",
    "            Simulated_trace_Lap[i] = Sample_HW[kc,i] + np.random.laplace(0,(0.5*Noise_variance[0])**0.5)\n",
    "        post_pro_vector = np.zeros(2**Input[\"num_bits\"])\n",
    "        post_pro_vector_Lap = np.zeros(2**Input[\"num_bits\"])\n",
    "        for i in range(0,2**Input[\"num_bits\"]):\n",
    "            post_pro_vector[i] = post_pro(Simulated_trace,Sample_HW,i,Noise_variance[0])\n",
    "            post_pro_vector_Lap[i] = post_pro(Simulated_trace_Lap,Sample_HW,i,Noise_variance[0])\n",
    "        sorted_post_pro_vector = sorted(post_pro_vector,reverse = True)\n",
    "        sorted_post_pro_vector_Lap = sorted(post_pro_vector_Lap,reverse = True)\n",
    "        for i in range(0,2**Input[\"num_bits\"]):\n",
    "            GM_vector[k] = GM_vector[k]+((i+1)*sorted_post_pro_vector[i])\n",
    "            GM_vector_Lap[k] = GM_vector_Lap[k]+((i+1)*sorted_post_pro_vector_Lap[i])\n",
    "            inter[k] = inter[k] + (sorted_post_pro_vector[i])**0.5\n",
    "            inter_Lap[k] = inter_Lap[k] + (sorted_post_pro_vector_Lap[i])**0.5\n",
    "            H = H + sorted_post_pro_vector[i]*math.log(sorted_post_pro_vector[i],2)\n",
    "            H_Lap = H_Lap + sorted_post_pro_vector_Lap[i]*math.log(sorted_post_pro_vector_Lap[i],2)\n",
    "        GE_vector[k] = np.where(sorted_post_pro_vector == post_pro_vector[kc])[0][0]\n",
    "        GE_vector_Lap[k] = np.where(sorted_post_pro_vector_Lap == post_pro_vector_Lap[kc])[0][0]\n",
    "        upper_bound[k] = 0.5*inter[k]**2+0.5\n",
    "        upper_bound_Lap[k] = 0.5*inter_Lap[k]**2+0.5\n",
    "        lower_bound[k] = (inter[k]**2)/(1+math.log(2**Input[\"num_bits\"]))\n",
    "        lower_bound_Lap[k] = (inter_Lap[k]**2)/(1+math.log(2**Input[\"num_bits\"]))\n",
    "    H_K = -H/Input[\"num_iteration\"]\n",
    "    H_K_Lap = -H_Lap/Input[\"num_iteration\"]\n",
    "    upper_bound_GMHK = 1 + (2**Input[\"num_bits\"] - 1)*(H_K)/(2*math.log(2**Input[\"num_bits\"]))\n",
    "    lower_bound_GMHK = 2**(H_K-2)+1\n",
    "    upper_bound_GMHK_Lap = 1 + (2**Input[\"num_bits\"] - 1)*(H_K_Lap)/(2*math.log(2**Input[\"num_bits\"]))\n",
    "    lower_bound_GMHK_Lap = 2**(H_K_Lap-2)+1\n",
    "    return {\"avg_GM\":GM_vector.mean(),\"avg_GE\":GE_vector.mean(),\"avg_GE_Lap\":GE_vector_Lap.mean() ,\"avg_GM_Lap\":GM_vector_Lap.mean(),\"avg_up\":upper_bound.mean(),\"avg_up_Lap\":upper_bound_Lap.mean(),\"avg_low\":lower_bound.mean(),\"avg_low_Lap\":lower_bound_Lap.mean(),\"up_GMHK\":upper_bound_GMHK,\"low_GMHK\":lower_bound_GMHK,\"up_GMHK_Lap\":upper_bound_GMHK_Lap,\"low_GMHK_Lap\":lower_bound_GMHK_Lap,\"theo_GM\":theo_GM,\"theo_up\":theo_up,\"theo_low\":theo_low,\"theo_up_GMHK\":theo_up_GMHK,\"theo_low_GMHK\":theo_low_GMHK}"
   ]
  },
  {
   "cell_type": "code",
   "execution_count": 257,
   "metadata": {},
   "outputs": [],
   "source": [
    "for i in range(0,len(Num_traces)):\n",
    "    result = rank_estimation_single_bit(Num_traces[i],Input,confusion_cof)\n",
    "    avg_GM[i] = result[\"avg_GM\"]\n",
    "    avg_GE[i] = result[\"avg_GE\"]\n",
    "    avg_GE_Lap[i] = result[\"avg_GE_Lap\"]\n",
    "    avg_GM_Lap[i] = result[\"avg_GM_Lap\"]\n",
    "    theo_GM[i] = result[\"theo_GM\"]\n",
    "    avg_up[i] = result[\"avg_up\"]\n",
    "    avg_up_Lap[i] = result[\"avg_up_Lap\"]\n",
    "    avg_low[i] = result[\"avg_low\"]\n",
    "    avg_low_Lap[i] = result[\"avg_low_Lap\"]\n",
    "    theo_up[i] = result[\"theo_up\"]\n",
    "    theo_low[i] = result[\"theo_low\"]\n",
    "    up_GMHK[i] = result[\"up_GMHK\"]\n",
    "    low_GMHK[i] = result[\"low_GMHK\"]\n",
    "    up_GMHK_Lap[i] = result[\"up_GMHK_Lap\"]\n",
    "    low_GMHK_Lap[i] = result[\"low_GMHK_Lap\"]\n",
    "    theo_up_GMHK[i] = result[\"theo_up_GMHK\"]\n",
    "    theo_low_GMHK[i] = result[\"theo_low_GMHK\"]"
   ]
  },
  {
   "cell_type": "code",
   "execution_count": 258,
   "metadata": {},
   "outputs": [],
   "source": [
    "#Log transformation\n",
    "Log_avg_GM = np.zeros(len(Num_traces))\n",
    "Log_avg_GE = np.zeros(len(Num_traces))\n",
    "Log_avg_GE_Lap = np.zeros(len(Num_traces))\n",
    "Log_avg_GM_Lap = np.zeros(len(Num_traces))\n",
    "Log_theo_GM = np.zeros(len(Num_traces))\n",
    "Log_avg_up = np.zeros(len(Num_traces))\n",
    "Log_avg_up_Lap = np.zeros(len(Num_traces))\n",
    "Log_avg_low = np.zeros(len(Num_traces))\n",
    "Log_avg_low_Lap = np.zeros(len(Num_traces))\n",
    "Log_theo_up = np.zeros(len(Num_traces))\n",
    "Log_theo_low = np.zeros(len(Num_traces))\n",
    "Log_up_GMHK = np.zeros(len(Num_traces))\n",
    "Log_low_GMHK = np.zeros(len(Num_traces))\n",
    "Log_up_GMHK_Lap = np.zeros(len(Num_traces))\n",
    "Log_low_GMHK_Lap = np.zeros(len(Num_traces))\n",
    "Log_theo_up_GMHK = np.zeros(len(Num_traces))\n",
    "Log_theo_low_GMHK = np.zeros(len(Num_traces))"
   ]
  },
  {
   "cell_type": "code",
   "execution_count": 259,
   "metadata": {},
   "outputs": [],
   "source": [
    "for i in range(0,len(Num_traces)):\n",
    "    Log_avg_GM[i] = math.log(avg_GM[i],2)\n",
    "    Log_avg_GE[i] = math.log(max(avg_GE[i],1),2)\n",
    "    Log_avg_GE_Lap[i] = math.log(max(avg_GE_Lap[i],1),2)\n",
    "    Log_avg_GM_Lap[i] = math.log(avg_GM_Lap[i],2)\n",
    "    Log_theo_GM[i] =  math.log(theo_GM[i],2)\n",
    "    Log_avg_up[i] = math.log(avg_up[i],2)\n",
    "    Log_avg_up_Lap[i] = math.log(avg_up_Lap[i],2)\n",
    "    Log_avg_low[i] = math.log(avg_low[i],2)\n",
    "    Log_avg_low_Lap[i] = math.log(avg_low_Lap[i],2)\n",
    "    Log_theo_up[i] = math.log(theo_up[i],2)\n",
    "    Log_theo_low[i] = math.log(theo_up[i],2)\n",
    "    Log_up_GMHK[i] = math.log(up_GMHK[i],2)\n",
    "    Log_low_GMHK[i] = math.log(low_GMHK[i],2)\n",
    "    Log_up_GMHK_Lap[i] = math.log(up_GMHK_Lap[i],2)\n",
    "    Log_low_GMHK_Lap[i] = math.log(low_GMHK_Lap[i],2)\n",
    "    Log_theo_up_GMHK[i] = math.log(theo_up_GMHK[i],2)\n",
    "    Log_theo_low_GMHK[i] = math.log(theo_low_GMHK[i],2)"
   ]
  },
  {
   "cell_type": "code",
   "execution_count": 264,
   "metadata": {},
   "outputs": [
    {
     "data": {
      "text/plain": [
       "Text(0,0.5,'Correlation')"
      ]
     },
     "execution_count": 264,
     "metadata": {},
     "output_type": "execute_result"
    },
    {
     "data": {
      "image/png": "[encoded data removed]",
      "text/plain": [
       "<matplotlib.figure.Figure at 0x2a3ed8b5be0>"
      ]
     },
     "metadata": {},
     "output_type": "display_data"
    }
   ],
   "source": [
    "plt.plot(np.array(range(0,5)),  Log_theo_GM, 'r-o',np.array(range(0,5)),  Log_avg_GM_Lap, 'r-o',np.array(range(0,5)),  Log_avg_GE_Lap, 'b',np.array(range(0,5)),  Log_avg_up_Lap, 'g',np.array(range(0,5)),  Log_avg_low_Lap,'c',np.array(range(0,5)),  Log_up_GMHK_Lap,'m',np.array(range(0,5)),  Log_low_GMHK_Lap,'y')\n",
    "plt.title('Suggested key-byte correlation')\n",
    "plt.xlabel('Time point')\n",
    "plt.ylabel('Correlation')"
   ]
  },
  {
   "cell_type": "code",
   "execution_count": 133,
   "metadata": {},
   "outputs": [],
   "source": [
    "#FSE estimation\n",
    "#LP_matrix is the log of probability matrix, each column corresponses to one byte,\n",
    "#Number of rows equals to number of value for each byte\n",
    "#Nb is the number of bins of Histogram for each byte\n",
    "def Histogram_generator(LP_matrix,Nb):\n",
    "    min_value = round(LP_matrix.min(),2)\n",
    "    max_value = round(LP_matrix.max(),2)\n",
    "    width = (max_value-min_value)/Nb\n",
    "    central_value = [min_value+width*(i+0.5) for i in range(0,Nb)]\n",
    "    H = np.zeros([LP_matrix.shape[1],Nb])\n",
    "    for i in range(0,LP_matrix.shape[1]):\n",
    "        for j in range(0,LP_matrix.shape[0]):\n",
    "            H[i,np.where(abs(central_value-LP_matrix[j,i])==min(abs(central_value-LP_matrix[j,i])))[0][0]]+=1\n",
    "    return {\"width_of_histogram\":width, \"central_value\":central_value,\"H_matrix\":H}\n",
    "\n",
    "def convolve_Histogram(H):\n",
    "    con_H = H[0,:]\n",
    "    for i in range(1,H.shape[0]):\n",
    "        con_H = np.convolve(con_H,H[i,:])\n",
    "    return con_H\n",
    "\n",
    "#convolve_central_vector requires input from function Histogram_generator\n",
    "def convolve_central_vector(result , N):\n",
    "    lenth = len(result[\"central_value\"])\n",
    "    return [result[\"central_value\"][0]*(N+1) + i*result[\"width_of_histogram\"] for i in range(0,(N+1)*lenth-N)]\n",
    "\n",
    "def FSE_estimation(LP_matrix, Nb, kc):\n",
    "    "
   ]
  },
  {
   "cell_type": "code",
   "execution_count": 79,
   "metadata": {},
   "outputs": [],
   "source": [
    "LP_matrix = np.array([[0,0.02,0],[0.02,0.02,0.04],[0.07,0.036,0.06],[0.11,0.04,0.14],[0.14,0.12,0.15],[0.16,0.19,0.18],[0.19,0.24,0.21],[0.3,0.29,0.28]])"
   ]
  },
  {
   "cell_type": "code",
   "execution_count": 36,
   "metadata": {},
   "outputs": [],
   "source": [
    "#Multiple bytes case\n",
    "#Output lower bound and upper bound\n",
    "def Calculate_GM_by_post_pro():\n",
    "    "
   ]
  }
 ],
 "metadata": {
  "kernelspec": {
   "display_name": "Python 3",
   "language": "python",
   "name": "python3"
  },
  "language_info": {
   "codemirror_mode": {
    "name": "ipython",
    "version": 3
   },
   "file_extension": ".py",
   "mimetype": "text/x-python",
   "name": "python",
   "nbconvert_exporter": "python",
   "pygments_lexer": "ipython3",
   "version": "3.6.4"
  }
 },
 "nbformat": 4,
 "nbformat_minor": 2
}
